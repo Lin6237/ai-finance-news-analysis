{
  "nbformat": 4,
  "nbformat_minor": 0,
  "metadata": {
    "colab": {
      "provenance": [],
      "authorship_tag": "ABX9TyM20HqJjPKRAKxAbLsloj2Y",
      "include_colab_link": true
    },
    "kernelspec": {
      "name": "python3",
      "display_name": "Python 3"
    },
    "language_info": {
      "name": "python"
    }
  },
  "cells": [
    {
      "cell_type": "markdown",
      "metadata": {
        "id": "view-in-github",
        "colab_type": "text"
      },
      "source": [
        "<a href=\"https://colab.research.google.com/github/Lin6237/ai-finance-news-analysis/blob/main/AI_Finance_News_Analysis.ipynb\" target=\"_parent\"><img src=\"https://colab.research.google.com/assets/colab-badge.svg\" alt=\"Open In Colab\"/></a>"
      ]
    },
    {
      "cell_type": "code",
      "source": [
        "!pip install requests\n",
        "!pip install beautifulsoup4\n",
        "!pip install matplotlib pandas wordcloud\n",
        "!pip install yfinance yahoo_fin\n",
        "!pip install transformers torch\n",
        "!pip install lxml\n",
        "!pip install smtplib\n",
        "!pip install getpass\n",
        "!pip install yfinance"
      ],
      "metadata": {
        "colab": {
          "base_uri": "https://localhost:8080/"
        },
        "collapsed": true,
        "id": "oZRjw6aapP3i",
        "outputId": "c37ce018-5446-4705-b7c9-3a16762dcd6b"
      },
      "execution_count": 29,
      "outputs": [
        {
          "output_type": "stream",
          "name": "stdout",
          "text": [
            "Requirement already satisfied: requests in /usr/local/lib/python3.11/dist-packages (2.32.3)\n",
            "Requirement already satisfied: charset-normalizer<4,>=2 in /usr/local/lib/python3.11/dist-packages (from requests) (3.4.1)\n",
            "Requirement already satisfied: idna<4,>=2.5 in /usr/local/lib/python3.11/dist-packages (from requests) (3.10)\n",
            "Requirement already satisfied: urllib3<3,>=1.21.1 in /usr/local/lib/python3.11/dist-packages (from requests) (1.26.20)\n",
            "Requirement already satisfied: certifi>=2017.4.17 in /usr/local/lib/python3.11/dist-packages (from requests) (2025.1.31)\n",
            "Requirement already satisfied: beautifulsoup4 in /usr/local/lib/python3.11/dist-packages (4.13.3)\n",
            "Requirement already satisfied: soupsieve>1.2 in /usr/local/lib/python3.11/dist-packages (from beautifulsoup4) (2.6)\n",
            "Requirement already satisfied: typing-extensions>=4.0.0 in /usr/local/lib/python3.11/dist-packages (from beautifulsoup4) (4.12.2)\n",
            "Requirement already satisfied: matplotlib in /usr/local/lib/python3.11/dist-packages (3.10.0)\n",
            "Requirement already satisfied: pandas in /usr/local/lib/python3.11/dist-packages (2.2.2)\n",
            "Requirement already satisfied: wordcloud in /usr/local/lib/python3.11/dist-packages (1.9.4)\n",
            "Requirement already satisfied: contourpy>=1.0.1 in /usr/local/lib/python3.11/dist-packages (from matplotlib) (1.3.1)\n",
            "Requirement already satisfied: cycler>=0.10 in /usr/local/lib/python3.11/dist-packages (from matplotlib) (0.12.1)\n",
            "Requirement already satisfied: fonttools>=4.22.0 in /usr/local/lib/python3.11/dist-packages (from matplotlib) (4.56.0)\n",
            "Requirement already satisfied: kiwisolver>=1.3.1 in /usr/local/lib/python3.11/dist-packages (from matplotlib) (1.4.8)\n",
            "Requirement already satisfied: numpy>=1.23 in /usr/local/lib/python3.11/dist-packages (from matplotlib) (1.26.4)\n",
            "Requirement already satisfied: packaging>=20.0 in /usr/local/lib/python3.11/dist-packages (from matplotlib) (24.2)\n",
            "Requirement already satisfied: pillow>=8 in /usr/local/lib/python3.11/dist-packages (from matplotlib) (11.1.0)\n",
            "Requirement already satisfied: pyparsing>=2.3.1 in /usr/local/lib/python3.11/dist-packages (from matplotlib) (3.2.1)\n",
            "Requirement already satisfied: python-dateutil>=2.7 in /usr/local/lib/python3.11/dist-packages (from matplotlib) (2.8.2)\n",
            "Requirement already satisfied: pytz>=2020.1 in /usr/local/lib/python3.11/dist-packages (from pandas) (2025.1)\n",
            "Requirement already satisfied: tzdata>=2022.7 in /usr/local/lib/python3.11/dist-packages (from pandas) (2025.1)\n",
            "Requirement already satisfied: six>=1.5 in /usr/local/lib/python3.11/dist-packages (from python-dateutil>=2.7->matplotlib) (1.17.0)\n",
            "Requirement already satisfied: yfinance in /usr/local/lib/python3.11/dist-packages (0.2.54)\n",
            "Requirement already satisfied: yahoo_fin in /usr/local/lib/python3.11/dist-packages (0.8.9.1)\n",
            "Requirement already satisfied: pandas>=1.3.0 in /usr/local/lib/python3.11/dist-packages (from yfinance) (2.2.2)\n",
            "Requirement already satisfied: numpy>=1.16.5 in /usr/local/lib/python3.11/dist-packages (from yfinance) (1.26.4)\n",
            "Requirement already satisfied: requests>=2.31 in /usr/local/lib/python3.11/dist-packages (from yfinance) (2.32.3)\n",
            "Requirement already satisfied: multitasking>=0.0.7 in /usr/local/lib/python3.11/dist-packages (from yfinance) (0.0.11)\n",
            "Requirement already satisfied: platformdirs>=2.0.0 in /usr/local/lib/python3.11/dist-packages (from yfinance) (4.3.6)\n",
            "Requirement already satisfied: pytz>=2022.5 in /usr/local/lib/python3.11/dist-packages (from yfinance) (2025.1)\n",
            "Requirement already satisfied: frozendict>=2.3.4 in /usr/local/lib/python3.11/dist-packages (from yfinance) (2.4.6)\n",
            "Requirement already satisfied: peewee>=3.16.2 in /usr/local/lib/python3.11/dist-packages (from yfinance) (3.17.9)\n",
            "Requirement already satisfied: beautifulsoup4>=4.11.1 in /usr/local/lib/python3.11/dist-packages (from yfinance) (4.13.3)\n",
            "Requirement already satisfied: requests-html in /usr/local/lib/python3.11/dist-packages (from yahoo_fin) (0.10.0)\n",
            "Requirement already satisfied: feedparser in /usr/local/lib/python3.11/dist-packages (from yahoo_fin) (6.0.11)\n",
            "Requirement already satisfied: soupsieve>1.2 in /usr/local/lib/python3.11/dist-packages (from beautifulsoup4>=4.11.1->yfinance) (2.6)\n",
            "Requirement already satisfied: typing-extensions>=4.0.0 in /usr/local/lib/python3.11/dist-packages (from beautifulsoup4>=4.11.1->yfinance) (4.12.2)\n",
            "Requirement already satisfied: python-dateutil>=2.8.2 in /usr/local/lib/python3.11/dist-packages (from pandas>=1.3.0->yfinance) (2.8.2)\n",
            "Requirement already satisfied: tzdata>=2022.7 in /usr/local/lib/python3.11/dist-packages (from pandas>=1.3.0->yfinance) (2025.1)\n",
            "Requirement already satisfied: charset-normalizer<4,>=2 in /usr/local/lib/python3.11/dist-packages (from requests>=2.31->yfinance) (3.4.1)\n",
            "Requirement already satisfied: idna<4,>=2.5 in /usr/local/lib/python3.11/dist-packages (from requests>=2.31->yfinance) (3.10)\n",
            "Requirement already satisfied: urllib3<3,>=1.21.1 in /usr/local/lib/python3.11/dist-packages (from requests>=2.31->yfinance) (1.26.20)\n",
            "Requirement already satisfied: certifi>=2017.4.17 in /usr/local/lib/python3.11/dist-packages (from requests>=2.31->yfinance) (2025.1.31)\n",
            "Requirement already satisfied: sgmllib3k in /usr/local/lib/python3.11/dist-packages (from feedparser->yahoo_fin) (1.0.0)\n",
            "Requirement already satisfied: pyquery in /usr/local/lib/python3.11/dist-packages (from requests-html->yahoo_fin) (2.0.1)\n",
            "Requirement already satisfied: fake-useragent in /usr/local/lib/python3.11/dist-packages (from requests-html->yahoo_fin) (2.0.3)\n",
            "Requirement already satisfied: parse in /usr/local/lib/python3.11/dist-packages (from requests-html->yahoo_fin) (1.20.2)\n",
            "Requirement already satisfied: bs4 in /usr/local/lib/python3.11/dist-packages (from requests-html->yahoo_fin) (0.0.2)\n",
            "Requirement already satisfied: w3lib in /usr/local/lib/python3.11/dist-packages (from requests-html->yahoo_fin) (2.3.1)\n",
            "Requirement already satisfied: pyppeteer>=0.0.14 in /usr/local/lib/python3.11/dist-packages (from requests-html->yahoo_fin) (2.0.0)\n",
            "Requirement already satisfied: appdirs<2.0.0,>=1.4.3 in /usr/local/lib/python3.11/dist-packages (from pyppeteer>=0.0.14->requests-html->yahoo_fin) (1.4.4)\n",
            "Requirement already satisfied: importlib-metadata>=1.4 in /usr/local/lib/python3.11/dist-packages (from pyppeteer>=0.0.14->requests-html->yahoo_fin) (8.6.1)\n",
            "Requirement already satisfied: pyee<12.0.0,>=11.0.0 in /usr/local/lib/python3.11/dist-packages (from pyppeteer>=0.0.14->requests-html->yahoo_fin) (11.1.1)\n",
            "Requirement already satisfied: tqdm<5.0.0,>=4.42.1 in /usr/local/lib/python3.11/dist-packages (from pyppeteer>=0.0.14->requests-html->yahoo_fin) (4.67.1)\n",
            "Requirement already satisfied: websockets<11.0,>=10.0 in /usr/local/lib/python3.11/dist-packages (from pyppeteer>=0.0.14->requests-html->yahoo_fin) (10.4)\n",
            "Requirement already satisfied: six>=1.5 in /usr/local/lib/python3.11/dist-packages (from python-dateutil>=2.8.2->pandas>=1.3.0->yfinance) (1.17.0)\n",
            "Requirement already satisfied: lxml>=2.1 in /usr/local/lib/python3.11/dist-packages (from pyquery->requests-html->yahoo_fin) (5.3.1)\n",
            "Requirement already satisfied: cssselect>=1.2.0 in /usr/local/lib/python3.11/dist-packages (from pyquery->requests-html->yahoo_fin) (1.3.0)\n",
            "Requirement already satisfied: zipp>=3.20 in /usr/local/lib/python3.11/dist-packages (from importlib-metadata>=1.4->pyppeteer>=0.0.14->requests-html->yahoo_fin) (3.21.0)\n",
            "Requirement already satisfied: transformers in /usr/local/lib/python3.11/dist-packages (4.48.3)\n",
            "Requirement already satisfied: torch in /usr/local/lib/python3.11/dist-packages (2.5.1+cu124)\n",
            "Requirement already satisfied: filelock in /usr/local/lib/python3.11/dist-packages (from transformers) (3.17.0)\n",
            "Requirement already satisfied: huggingface-hub<1.0,>=0.24.0 in /usr/local/lib/python3.11/dist-packages (from transformers) (0.28.1)\n",
            "Requirement already satisfied: numpy>=1.17 in /usr/local/lib/python3.11/dist-packages (from transformers) (1.26.4)\n",
            "Requirement already satisfied: packaging>=20.0 in /usr/local/lib/python3.11/dist-packages (from transformers) (24.2)\n",
            "Requirement already satisfied: pyyaml>=5.1 in /usr/local/lib/python3.11/dist-packages (from transformers) (6.0.2)\n",
            "Requirement already satisfied: regex!=2019.12.17 in /usr/local/lib/python3.11/dist-packages (from transformers) (2024.11.6)\n",
            "Requirement already satisfied: requests in /usr/local/lib/python3.11/dist-packages (from transformers) (2.32.3)\n",
            "Requirement already satisfied: tokenizers<0.22,>=0.21 in /usr/local/lib/python3.11/dist-packages (from transformers) (0.21.0)\n",
            "Requirement already satisfied: safetensors>=0.4.1 in /usr/local/lib/python3.11/dist-packages (from transformers) (0.5.3)\n",
            "Requirement already satisfied: tqdm>=4.27 in /usr/local/lib/python3.11/dist-packages (from transformers) (4.67.1)\n",
            "Requirement already satisfied: typing-extensions>=4.8.0 in /usr/local/lib/python3.11/dist-packages (from torch) (4.12.2)\n",
            "Requirement already satisfied: networkx in /usr/local/lib/python3.11/dist-packages (from torch) (3.4.2)\n",
            "Requirement already satisfied: jinja2 in /usr/local/lib/python3.11/dist-packages (from torch) (3.1.5)\n",
            "Requirement already satisfied: fsspec in /usr/local/lib/python3.11/dist-packages (from torch) (2024.10.0)\n",
            "Requirement already satisfied: nvidia-cuda-nvrtc-cu12==12.4.127 in /usr/local/lib/python3.11/dist-packages (from torch) (12.4.127)\n",
            "Requirement already satisfied: nvidia-cuda-runtime-cu12==12.4.127 in /usr/local/lib/python3.11/dist-packages (from torch) (12.4.127)\n",
            "Requirement already satisfied: nvidia-cuda-cupti-cu12==12.4.127 in /usr/local/lib/python3.11/dist-packages (from torch) (12.4.127)\n",
            "Requirement already satisfied: nvidia-cudnn-cu12==9.1.0.70 in /usr/local/lib/python3.11/dist-packages (from torch) (9.1.0.70)\n",
            "Requirement already satisfied: nvidia-cublas-cu12==12.4.5.8 in /usr/local/lib/python3.11/dist-packages (from torch) (12.4.5.8)\n",
            "Requirement already satisfied: nvidia-cufft-cu12==11.2.1.3 in /usr/local/lib/python3.11/dist-packages (from torch) (11.2.1.3)\n",
            "Requirement already satisfied: nvidia-curand-cu12==10.3.5.147 in /usr/local/lib/python3.11/dist-packages (from torch) (10.3.5.147)\n",
            "Requirement already satisfied: nvidia-cusolver-cu12==11.6.1.9 in /usr/local/lib/python3.11/dist-packages (from torch) (11.6.1.9)\n",
            "Requirement already satisfied: nvidia-cusparse-cu12==12.3.1.170 in /usr/local/lib/python3.11/dist-packages (from torch) (12.3.1.170)\n",
            "Requirement already satisfied: nvidia-nccl-cu12==2.21.5 in /usr/local/lib/python3.11/dist-packages (from torch) (2.21.5)\n",
            "Requirement already satisfied: nvidia-nvtx-cu12==12.4.127 in /usr/local/lib/python3.11/dist-packages (from torch) (12.4.127)\n",
            "Requirement already satisfied: nvidia-nvjitlink-cu12==12.4.127 in /usr/local/lib/python3.11/dist-packages (from torch) (12.4.127)\n",
            "Requirement already satisfied: triton==3.1.0 in /usr/local/lib/python3.11/dist-packages (from torch) (3.1.0)\n",
            "Requirement already satisfied: sympy==1.13.1 in /usr/local/lib/python3.11/dist-packages (from torch) (1.13.1)\n",
            "Requirement already satisfied: mpmath<1.4,>=1.1.0 in /usr/local/lib/python3.11/dist-packages (from sympy==1.13.1->torch) (1.3.0)\n",
            "Requirement already satisfied: MarkupSafe>=2.0 in /usr/local/lib/python3.11/dist-packages (from jinja2->torch) (3.0.2)\n",
            "Requirement already satisfied: charset-normalizer<4,>=2 in /usr/local/lib/python3.11/dist-packages (from requests->transformers) (3.4.1)\n",
            "Requirement already satisfied: idna<4,>=2.5 in /usr/local/lib/python3.11/dist-packages (from requests->transformers) (3.10)\n",
            "Requirement already satisfied: urllib3<3,>=1.21.1 in /usr/local/lib/python3.11/dist-packages (from requests->transformers) (1.26.20)\n",
            "Requirement already satisfied: certifi>=2017.4.17 in /usr/local/lib/python3.11/dist-packages (from requests->transformers) (2025.1.31)\n",
            "Requirement already satisfied: lxml in /usr/local/lib/python3.11/dist-packages (5.3.1)\n",
            "\u001b[31mERROR: Could not find a version that satisfies the requirement smtplib (from versions: none)\u001b[0m\u001b[31m\n",
            "\u001b[0m\u001b[31mERROR: No matching distribution found for smtplib\u001b[0m\u001b[31m\n",
            "\u001b[0m\u001b[31mERROR: Could not find a version that satisfies the requirement getpass (from versions: none)\u001b[0m\u001b[31m\n",
            "\u001b[0m\u001b[31mERROR: No matching distribution found for getpass\u001b[0m\u001b[31m\n",
            "\u001b[0mRequirement already satisfied: yfinance in /usr/local/lib/python3.11/dist-packages (0.2.54)\n",
            "Requirement already satisfied: pandas>=1.3.0 in /usr/local/lib/python3.11/dist-packages (from yfinance) (2.2.2)\n",
            "Requirement already satisfied: numpy>=1.16.5 in /usr/local/lib/python3.11/dist-packages (from yfinance) (1.26.4)\n",
            "Requirement already satisfied: requests>=2.31 in /usr/local/lib/python3.11/dist-packages (from yfinance) (2.32.3)\n",
            "Requirement already satisfied: multitasking>=0.0.7 in /usr/local/lib/python3.11/dist-packages (from yfinance) (0.0.11)\n",
            "Requirement already satisfied: platformdirs>=2.0.0 in /usr/local/lib/python3.11/dist-packages (from yfinance) (4.3.6)\n",
            "Requirement already satisfied: pytz>=2022.5 in /usr/local/lib/python3.11/dist-packages (from yfinance) (2025.1)\n",
            "Requirement already satisfied: frozendict>=2.3.4 in /usr/local/lib/python3.11/dist-packages (from yfinance) (2.4.6)\n",
            "Requirement already satisfied: peewee>=3.16.2 in /usr/local/lib/python3.11/dist-packages (from yfinance) (3.17.9)\n",
            "Requirement already satisfied: beautifulsoup4>=4.11.1 in /usr/local/lib/python3.11/dist-packages (from yfinance) (4.13.3)\n",
            "Requirement already satisfied: soupsieve>1.2 in /usr/local/lib/python3.11/dist-packages (from beautifulsoup4>=4.11.1->yfinance) (2.6)\n",
            "Requirement already satisfied: typing-extensions>=4.0.0 in /usr/local/lib/python3.11/dist-packages (from beautifulsoup4>=4.11.1->yfinance) (4.12.2)\n",
            "Requirement already satisfied: python-dateutil>=2.8.2 in /usr/local/lib/python3.11/dist-packages (from pandas>=1.3.0->yfinance) (2.8.2)\n",
            "Requirement already satisfied: tzdata>=2022.7 in /usr/local/lib/python3.11/dist-packages (from pandas>=1.3.0->yfinance) (2025.1)\n",
            "Requirement already satisfied: charset-normalizer<4,>=2 in /usr/local/lib/python3.11/dist-packages (from requests>=2.31->yfinance) (3.4.1)\n",
            "Requirement already satisfied: idna<4,>=2.5 in /usr/local/lib/python3.11/dist-packages (from requests>=2.31->yfinance) (3.10)\n",
            "Requirement already satisfied: urllib3<3,>=1.21.1 in /usr/local/lib/python3.11/dist-packages (from requests>=2.31->yfinance) (1.26.20)\n",
            "Requirement already satisfied: certifi>=2017.4.17 in /usr/local/lib/python3.11/dist-packages (from requests>=2.31->yfinance) (2025.1.31)\n",
            "Requirement already satisfied: six>=1.5 in /usr/local/lib/python3.11/dist-packages (from python-dateutil>=2.8.2->pandas>=1.3.0->yfinance) (1.17.0)\n"
          ]
        }
      ]
    },
    {
      "cell_type": "markdown",
      "source": [
        "套件\n"
      ],
      "metadata": {
        "id": "3yJ6fbM57Zo2"
      }
    },
    {
      "cell_type": "code",
      "source": [
        "import os\n",
        "import smtplib\n",
        "import getpass\n",
        "import requests\n",
        "import matplotlib.pyplot as plt\n",
        "import pandas as pd\n",
        "import time\n",
        "import yfinance as yf\n",
        "from yahoo_fin import stock_info\n",
        "from bs4 import BeautifulSoup\n",
        "from wordcloud import WordCloud\n",
        "from email.mime.multipart import MIMEMultipart\n",
        "from email.mime.text import MIMEText\n",
        "from email.mime.base import MIMEBase\n",
        "from email import encoders\n",
        "from transformers import pipeline"
      ],
      "metadata": {
        "id": "3c0mK3Nn7Y94"
      },
      "execution_count": 31,
      "outputs": []
    },
    {
      "cell_type": "markdown",
      "source": [
        "AI 相關模型"
      ],
      "metadata": {
        "id": "Tcy4sMsz7yjQ"
      }
    },
    {
      "cell_type": "code",
      "source": [
        "summarizer = pipeline(\"summarization\", model=\"facebook/bart-large-cnn\")\n",
        "sentiment_analyzer = pipeline(\"sentiment-analysis\")"
      ],
      "metadata": {
        "colab": {
          "base_uri": "https://localhost:8080/"
        },
        "collapsed": true,
        "id": "GdQcKJcy7z_v",
        "outputId": "0c30d15a-5d8f-412e-8b71-a9b685652e5e"
      },
      "execution_count": 32,
      "outputs": [
        {
          "output_type": "stream",
          "name": "stderr",
          "text": [
            "Device set to use cpu\n",
            "No model was supplied, defaulted to distilbert/distilbert-base-uncased-finetuned-sst-2-english and revision 714eb0f (https://huggingface.co/distilbert/distilbert-base-uncased-finetuned-sst-2-english).\n",
            "Using a pipeline without specifying a model name and revision in production is not recommended.\n",
            "Device set to use cpu\n"
          ]
        }
      ]
    },
    {
      "cell_type": "markdown",
      "source": [
        "1. 爬取 Yahoo Finance 最新市場新聞"
      ],
      "metadata": {
        "id": "CER84Vqk74XW"
      }
    },
    {
      "cell_type": "code",
      "source": [
        "def get_yahoo_finance_news():\n",
        "    \"\"\"透過 Google News 爬取 Yahoo Finance 最新新聞\"\"\"\n",
        "    google_news_url = \"https://www.google.com/search?q=site:finance.yahoo.com+stock+market+news&tbm=nws\"\n",
        "    headers = {\"User-Agent\": \"Mozilla/5.0\"}\n",
        "\n",
        "    response = requests.get(google_news_url, headers=headers)\n",
        "    if response.status_code != 200:\n",
        "        print(\"無法訪問 Google News，請檢查網路或網站是否封鎖爬蟲\")\n",
        "        return []\n",
        "\n",
        "    soup = BeautifulSoup(response.text, \"html.parser\")\n",
        "    news_data = []\n",
        "    articles = soup.find_all(\"div\", class_=\"BNeawe vvjwJb AP7Wnd\")\n",
        "\n",
        "    if not articles:\n",
        "        print(\"未找到 Yahoo Finance 新聞，可能是 HTML 結構變更\")\n",
        "        return []\n",
        "\n",
        "    for article in articles[:5]:  # 取前 5 則新聞\n",
        "        try:\n",
        "            title = article.get_text().strip()\n",
        "            parent_div = article.find_parent(\"a\")\n",
        "            link = parent_div[\"href\"] if parent_div else \"無法取得網址\"\n",
        "            if link.startswith(\"/url?q=\"):\n",
        "                link = link.split(\"&\")[0].replace(\"/url?q=\", \"\")\n",
        "\n",
        "            # 爬取新聞內容\n",
        "            content = \"無法獲取新聞內容\"\n",
        "            if \"yahoo.com\" in link:\n",
        "                article_response = requests.get(link, headers=headers)\n",
        "                article_soup = BeautifulSoup(article_response.text, \"html.parser\")\n",
        "                paragraphs = article_soup.find_all(\"p\")\n",
        "                content = \" \".join([p.get_text() for p in paragraphs[:5]]) if paragraphs else \"無法獲取新聞內容\"\n",
        "        except Exception as e:\n",
        "            content = \"新聞解析錯誤\"\n",
        "\n",
        "        news_data.append({\"title\": title, \"url\": link, \"content\": content})\n",
        "\n",
        "    return news_data"
      ],
      "metadata": {
        "id": "oBvIfb2z78Nc"
      },
      "execution_count": 33,
      "outputs": []
    },
    {
      "cell_type": "markdown",
      "source": [
        "2. AI 生成摘要與情緒分析"
      ],
      "metadata": {
        "id": "gVP9C2qd8BV3"
      }
    },
    {
      "cell_type": "code",
      "source": [
        "def process_news(news_list):\n",
        "    \"\"\"生成新聞摘要並進行情緒分析\"\"\"\n",
        "    for news in news_list:\n",
        "        content = news.get(\"content\", \"\").strip()\n",
        "        news[\"generated_summary\"] = (\n",
        "            summarizer(content, max_length=50, min_length=10, do_sample=False)[0]['summary_text']\n",
        "            if content else \"摘要不可用（原文缺失）\"\n",
        "        )\n",
        "        news[\"sentiment\"] = sentiment_analyzer(news[\"generated_summary\"])[0]['label']"
      ],
      "metadata": {
        "id": "SsryG3D18EJZ"
      },
      "execution_count": 34,
      "outputs": []
    },
    {
      "cell_type": "markdown",
      "source": [
        "3. 視覺化數據：新聞情緒條形圖 & 詞雲"
      ],
      "metadata": {
        "id": "2vsFJvuR8Osb"
      }
    },
    {
      "cell_type": "code",
      "source": [
        "def visualize_results(news_list):\n",
        "    \"\"\"生成新聞情緒分析條形圖 & 詞雲，並儲存圖片\"\"\"\n",
        "    sentiments = [news[\"sentiment\"] for news in news_list]\n",
        "    titles = \" \".join([news[\"title\"] for news in news_list])\n",
        "\n",
        "    # 條形圖\n",
        "    sentiment_counts = {\"POSITIVE\": 0, \"NEGATIVE\": 0, \"NEUTRAL\": 0}\n",
        "    for sentiment in sentiments:\n",
        "        sentiment_counts[sentiment] += 1\n",
        "\n",
        "    plt.figure(figsize=(6, 4))\n",
        "    plt.bar(sentiment_counts.keys(), sentiment_counts.values(), color=[\"green\", \"red\", \"gray\"])\n",
        "    plt.xlabel(\"情緒分析結果\")\n",
        "    plt.ylabel(\"新聞數量\")\n",
        "    plt.title(\"Yahoo Finance 新聞情緒統計\")\n",
        "    plt.savefig(\"sentiment_chart.png\")\n",
        "    plt.close()\n",
        "\n",
        "    # 詞雲\n",
        "    wordcloud = WordCloud(width=800, height=400, background_color=\"white\").generate(titles)\n",
        "    plt.figure(figsize=(8, 4))\n",
        "    plt.imshow(wordcloud, interpolation=\"bilinear\")\n",
        "    plt.axis(\"off\")\n",
        "    plt.title(\"新聞標題關鍵字雲\")\n",
        "    plt.savefig(\"wordcloud.png\")\n",
        "    plt.close()\n",
        "\n",
        "    print(\"✅ 圖表已儲存：sentiment_chart.png, wordcloud.png\")"
      ],
      "metadata": {
        "id": "zuIEM9Aj8UFR"
      },
      "execution_count": 35,
      "outputs": []
    },
    {
      "cell_type": "markdown",
      "source": [
        "4. 爬取市場數據"
      ],
      "metadata": {
        "id": "MLyTFLjJ9Abu"
      }
    },
    {
      "cell_type": "code",
      "source": [
        "def get_market_data():\n",
        "    \"\"\"使用 yfinance 獲取市場指數數據\"\"\"\n",
        "    indices = {\n",
        "        \"S&P 500\": \"^GSPC\",\n",
        "        \"Dow Jones\": \"^DJI\",\n",
        "        \"Nasdaq\": \"^IXIC\",\n",
        "        \"Apple\": \"AAPL\",\n",
        "        \"Tesla\": \"TSLA\"\n",
        "    }\n",
        "\n",
        "    market_data = {}\n",
        "    for name, symbol in indices.items():\n",
        "        try:\n",
        "            ticker = yf.Ticker(symbol)\n",
        "            price = ticker.history(period=\"1d\")[\"Close\"].iloc[-1]  # 取最新收盤價\n",
        "            market_data[name] = f\"${price:.2f}\"\n",
        "        except Exception as e:\n",
        "            market_data[name] = \"無法獲取數據\"\n",
        "\n",
        "    return market_data"
      ],
      "metadata": {
        "id": "GJDL1-Ih9BTI"
      },
      "execution_count": 36,
      "outputs": []
    },
    {
      "cell_type": "markdown",
      "source": [
        "5. 發送 Email，包含市場數據與分析結果"
      ],
      "metadata": {
        "id": "GIxLqhzr8VXn"
      }
    },
    {
      "cell_type": "code",
      "source": [
        "def send_email_with_market_data(news_list):\n",
        "    \"\"\"發送 Email，並附加市場指數、條形圖與詞雲\"\"\"\n",
        "\n",
        "    sender_email = input(\"輸入你的 Gmail 地址: \")\n",
        "    receiver_email = input(\"輸入收件人 Email: \")\n",
        "    password = getpass.getpass(\"輸入你的 Gmail 應用程式密碼（不會顯示）: \")\n",
        "\n",
        "    market_data = get_market_data()\n",
        "    market_text = \"\\n\".join([f\"{key}: {value}\" for key, value in market_data.items()])\n",
        "\n",
        "    news_text = \"\\n\".join([\n",
        "        f\"{n+1}. {news['title']}\\n摘要: {news['generated_summary']}\\n情緒: {news['sentiment']}\\n網址: {news['url']}\\n\"\n",
        "        for n, news in enumerate(news_list)\n",
        "    ])\n",
        "\n",
        "    subject = \"AI 金融市場新聞與數據分析\"\n",
        "    body = f\"📊 市場數據指數：\\n{market_text}\\n\\n📰 AI 金融新聞分析：\\n{news_text}\"\n",
        "\n",
        "    msg = MIMEMultipart()\n",
        "    msg[\"From\"] = sender_email\n",
        "    msg[\"To\"] = receiver_email\n",
        "    msg[\"Subject\"] = subject\n",
        "    msg.attach(MIMEText(body, \"plain\"))\n",
        "\n",
        "    image_files = [\"sentiment_chart.png\", \"wordcloud.png\"]\n",
        "    for image_file in image_files:\n",
        "        with open(image_file, \"rb\") as attachment:\n",
        "            part = MIMEBase(\"application\", \"octet-stream\")\n",
        "            part.set_payload(attachment.read())\n",
        "        encoders.encode_base64(part)\n",
        "        part.add_header(\"Content-Disposition\", f\"attachment; filename={image_file}\")\n",
        "        msg.attach(part)\n",
        "\n",
        "    server = smtplib.SMTP_SSL(\"smtp.gmail.com\", 465)\n",
        "    server.login(sender_email, password)\n",
        "    server.sendmail(sender_email, receiver_email, msg.as_string())\n",
        "    server.quit()\n",
        "    print(\"📧 Email 發送成功，已附加市場數據與圖片！\")"
      ],
      "metadata": {
        "id": "5LY8TCNF8XXr"
      },
      "execution_count": 37,
      "outputs": []
    },
    {
      "cell_type": "markdown",
      "source": [
        "6. 主程式"
      ],
      "metadata": {
        "id": "F3br1tCx8acc"
      }
    },
    {
      "cell_type": "code",
      "source": [
        "if __name__ == \"__main__\":\n",
        "    news_list = get_yahoo_finance_news()\n",
        "    if news_list:\n",
        "        process_news(news_list)\n",
        "        display_results(news_list)\n",
        "        visualize_results(news_list)\n",
        "        send_email_with_market_data(news_list)\n",
        "    else:\n",
        "        print(\"⚠️ 無法獲取新聞，請稍後再試。\")"
      ],
      "metadata": {
        "colab": {
          "base_uri": "https://localhost:8080/"
        },
        "id": "GGvob9bJ8eKO",
        "outputId": "d708b82e-eb70-4e36-edaf-d14f63060c0f"
      },
      "execution_count": 38,
      "outputs": [
        {
          "output_type": "stream",
          "name": "stdout",
          "text": [
            "\n",
            "📊 Yahoo Finance 新聞分析結果：\n",
            "\n",
            "1. 📰 標題：Rocket to Buy Real Estate Broker Redfin for $1.75 Billion\n",
            "   ✨ AI 摘要：Rocket Cos. (RKT) is pushing deeper into the property market with a deal to buy Redfin Corp. The deal values the real estate listing site at $1.75 billion.\n",
            "   📌 情緒分析結果：POSITIVE\n",
            "   🔗 網址：https://finance.yahoo.com/news/rocket-agrees-1-75-billion-105017116.html\n",
            "\n",
            "2. 📰 標題：Ford to inject up to $4.76 billion into German business, FT reports\n",
            "   ✨ AI 摘要：Ford will inject up to 4.4 billion euros ($4.76 billion) into its struggling German operations. U.S. carmaker is trying to revive its European business. Ford-Werke German arm will continue strategic transformation\n",
            "   📌 情緒分析結果：POSITIVE\n",
            "   🔗 網址：https://finance.yahoo.com/news/ford-inject-4-76-billion-092738554.html\n",
            "\n",
            "3. 📰 標題：Wall Street Starts to Rethink Lofty S&P 500 Forecasts for 2025\n",
            "   ✨ AI 摘要：For two consecutive years, stock-market prognosticators lifted their outlooks for the S&P 500 Index over and over again.\n",
            "   📌 情緒分析結果：POSITIVE\n",
            "   🔗 網址：https://finance.yahoo.com/news/wall-street-starts-rethink-lofty-093000228.html\n",
            "\n",
            "4. 📰 標題：Morgan Stanley joins chorus of volatility warnings on US stocks\n",
            "   ✨ AI 摘要：Wall Street strategists are warning about higher stock volatility. Morgan Stanley’s Michael Wilson is the latest to sound the alarm.\n",
            "   📌 情緒分析結果：POSITIVE\n",
            "   🔗 網址：https://finance.yahoo.com/news/morgan-stanley-wilson-warns-p-084655689.html\n",
            "\n",
            "5. 📰 標題：The new Trump era just got more complicated for Capital One\n",
            "   ✨ AI 摘要：The Trump Organization sued Capital One for allegedly debanking hundreds of its accounts following the Jan. 6, 2021 attack on the U.S. Capitol. Capital One responded to the lawsuit by telling media outlets the bank \"has not and does\n",
            "   📌 情緒分析結果：NEGATIVE\n",
            "   🔗 網址：https://finance.yahoo.com/news/the-new-trump-era-just-got-more-complicated-for-capital-one-080011072.html\n",
            "\n"
          ]
        },
        {
          "output_type": "stream",
          "name": "stderr",
          "text": [
            "<ipython-input-35-e221928131ca>:16: UserWarning: Glyph 26032 (\\N{CJK UNIFIED IDEOGRAPH-65B0}) missing from font(s) DejaVu Sans.\n",
            "  plt.savefig(\"sentiment_chart.png\")\n",
            "<ipython-input-35-e221928131ca>:16: UserWarning: Glyph 32862 (\\N{CJK UNIFIED IDEOGRAPH-805E}) missing from font(s) DejaVu Sans.\n",
            "  plt.savefig(\"sentiment_chart.png\")\n",
            "<ipython-input-35-e221928131ca>:16: UserWarning: Glyph 25976 (\\N{CJK UNIFIED IDEOGRAPH-6578}) missing from font(s) DejaVu Sans.\n",
            "  plt.savefig(\"sentiment_chart.png\")\n",
            "<ipython-input-35-e221928131ca>:16: UserWarning: Glyph 37327 (\\N{CJK UNIFIED IDEOGRAPH-91CF}) missing from font(s) DejaVu Sans.\n",
            "  plt.savefig(\"sentiment_chart.png\")\n",
            "<ipython-input-35-e221928131ca>:16: UserWarning: Glyph 24773 (\\N{CJK UNIFIED IDEOGRAPH-60C5}) missing from font(s) DejaVu Sans.\n",
            "  plt.savefig(\"sentiment_chart.png\")\n",
            "<ipython-input-35-e221928131ca>:16: UserWarning: Glyph 32210 (\\N{CJK UNIFIED IDEOGRAPH-7DD2}) missing from font(s) DejaVu Sans.\n",
            "  plt.savefig(\"sentiment_chart.png\")\n",
            "<ipython-input-35-e221928131ca>:16: UserWarning: Glyph 32113 (\\N{CJK UNIFIED IDEOGRAPH-7D71}) missing from font(s) DejaVu Sans.\n",
            "  plt.savefig(\"sentiment_chart.png\")\n",
            "<ipython-input-35-e221928131ca>:16: UserWarning: Glyph 35336 (\\N{CJK UNIFIED IDEOGRAPH-8A08}) missing from font(s) DejaVu Sans.\n",
            "  plt.savefig(\"sentiment_chart.png\")\n",
            "<ipython-input-35-e221928131ca>:16: UserWarning: Glyph 20998 (\\N{CJK UNIFIED IDEOGRAPH-5206}) missing from font(s) DejaVu Sans.\n",
            "  plt.savefig(\"sentiment_chart.png\")\n",
            "<ipython-input-35-e221928131ca>:16: UserWarning: Glyph 26512 (\\N{CJK UNIFIED IDEOGRAPH-6790}) missing from font(s) DejaVu Sans.\n",
            "  plt.savefig(\"sentiment_chart.png\")\n",
            "<ipython-input-35-e221928131ca>:16: UserWarning: Glyph 32080 (\\N{CJK UNIFIED IDEOGRAPH-7D50}) missing from font(s) DejaVu Sans.\n",
            "  plt.savefig(\"sentiment_chart.png\")\n",
            "<ipython-input-35-e221928131ca>:16: UserWarning: Glyph 26524 (\\N{CJK UNIFIED IDEOGRAPH-679C}) missing from font(s) DejaVu Sans.\n",
            "  plt.savefig(\"sentiment_chart.png\")\n",
            "<ipython-input-35-e221928131ca>:25: UserWarning: Glyph 26032 (\\N{CJK UNIFIED IDEOGRAPH-65B0}) missing from font(s) DejaVu Sans.\n",
            "  plt.savefig(\"wordcloud.png\")\n",
            "<ipython-input-35-e221928131ca>:25: UserWarning: Glyph 32862 (\\N{CJK UNIFIED IDEOGRAPH-805E}) missing from font(s) DejaVu Sans.\n",
            "  plt.savefig(\"wordcloud.png\")\n",
            "<ipython-input-35-e221928131ca>:25: UserWarning: Glyph 27161 (\\N{CJK UNIFIED IDEOGRAPH-6A19}) missing from font(s) DejaVu Sans.\n",
            "  plt.savefig(\"wordcloud.png\")\n",
            "<ipython-input-35-e221928131ca>:25: UserWarning: Glyph 38988 (\\N{CJK UNIFIED IDEOGRAPH-984C}) missing from font(s) DejaVu Sans.\n",
            "  plt.savefig(\"wordcloud.png\")\n",
            "<ipython-input-35-e221928131ca>:25: UserWarning: Glyph 38364 (\\N{CJK UNIFIED IDEOGRAPH-95DC}) missing from font(s) DejaVu Sans.\n",
            "  plt.savefig(\"wordcloud.png\")\n",
            "<ipython-input-35-e221928131ca>:25: UserWarning: Glyph 37749 (\\N{CJK UNIFIED IDEOGRAPH-9375}) missing from font(s) DejaVu Sans.\n",
            "  plt.savefig(\"wordcloud.png\")\n",
            "<ipython-input-35-e221928131ca>:25: UserWarning: Glyph 23383 (\\N{CJK UNIFIED IDEOGRAPH-5B57}) missing from font(s) DejaVu Sans.\n",
            "  plt.savefig(\"wordcloud.png\")\n",
            "<ipython-input-35-e221928131ca>:25: UserWarning: Glyph 38642 (\\N{CJK UNIFIED IDEOGRAPH-96F2}) missing from font(s) DejaVu Sans.\n",
            "  plt.savefig(\"wordcloud.png\")\n"
          ]
        },
        {
          "output_type": "stream",
          "name": "stdout",
          "text": [
            "✅ 圖表已儲存：sentiment_chart.png, wordcloud.png\n",
            "輸入你的 Gmail 地址: hinalin1017@gmail.com\n",
            "輸入收件人 Email: hinalin1017@gmail.com\n",
            "輸入你的 Gmail 應用程式密碼（不會顯示）: ··········\n",
            "📧 Email 發送成功，已附加市場數據與圖片！\n"
          ]
        }
      ]
    },
    {
      "cell_type": "code",
      "source": [],
      "metadata": {
        "id": "nQ5txj4aypMk"
      },
      "execution_count": null,
      "outputs": []
    }
  ]
}